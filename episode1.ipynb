{
 "cells": [
  {
   "cell_type": "code",
   "execution_count": 1,
   "id": "b594bf7d",
   "metadata": {
    "ExecuteTime": {
     "end_time": "2025-06-11T07:15:21.232445Z",
     "start_time": "2025-06-11T07:15:18.831116Z"
    }
   },
   "outputs": [],
   "source": [
    "import pandas as pd\n",
    "import numpy as np"
   ]
  },
  {
   "cell_type": "code",
   "execution_count": 2,
   "id": "55fcf94d",
   "metadata": {
    "ExecuteTime": {
     "end_time": "2025-06-11T07:16:08.778163Z",
     "start_time": "2025-06-11T07:16:08.752157Z"
    }
   },
   "outputs": [],
   "source": [
    "eur = pd.read_csv('EURUSD_Daily.csv')\n",
    "gbp = pd.read_csv('GBPUSD_Daily.csv')\n",
    "aud = pd.read_csv('AUDUSD_Daily.csv')"
   ]
  },
  {
   "cell_type": "code",
   "execution_count": 6,
   "id": "52bdd62c",
   "metadata": {
    "ExecuteTime": {
     "end_time": "2025-06-11T07:17:34.671995Z",
     "start_time": "2025-06-11T07:17:34.662578Z"
    }
   },
   "outputs": [],
   "source": [
    "eur.drop('Spread', axis=1, inplace=True)\n",
    "gbp.drop('Spread', axis=1, inplace=True)\n",
    "aud.drop('Spread', axis=1, inplace=True)"
   ]
  },
  {
   "cell_type": "code",
   "execution_count": 7,
   "id": "b1a60832",
   "metadata": {
    "ExecuteTime": {
     "end_time": "2025-06-11T07:17:45.937765Z",
     "start_time": "2025-06-11T07:17:45.924793Z"
    }
   },
   "outputs": [
    {
     "name": "stdout",
     "output_type": "stream",
     "text": [
      "<class 'pandas.core.frame.DataFrame'>\n",
      "RangeIndex: 1304 entries, 0 to 1303\n",
      "Data columns (total 6 columns):\n",
      " #   Column  Non-Null Count  Dtype  \n",
      "---  ------  --------------  -----  \n",
      " 0   Date    1304 non-null   object \n",
      " 1   Open    1304 non-null   float64\n",
      " 2   High    1304 non-null   float64\n",
      " 3   Low     1304 non-null   float64\n",
      " 4   Close   1304 non-null   float64\n",
      " 5   Volume  1304 non-null   int64  \n",
      "dtypes: float64(4), int64(1), object(1)\n",
      "memory usage: 61.3+ KB\n"
     ]
    }
   ],
   "source": [
    "eur.info()"
   ]
  },
  {
   "cell_type": "code",
   "execution_count": 8,
   "id": "7e27539c",
   "metadata": {
    "ExecuteTime": {
     "end_time": "2025-06-11T07:18:54.136586Z",
     "start_time": "2025-06-11T07:18:54.123596Z"
    }
   },
   "outputs": [],
   "source": [
    "eur['Date'] = pd.to_datetime(eur['Date'])\n",
    "gbp['Date'] = pd.to_datetime(eur['Date'])\n",
    "aud['Date'] = pd.to_datetime(eur['Date'])"
   ]
  },
  {
   "cell_type": "code",
   "execution_count": 9,
   "id": "8a6d886e",
   "metadata": {
    "ExecuteTime": {
     "end_time": "2025-06-11T07:19:01.680196Z",
     "start_time": "2025-06-11T07:19:01.672189Z"
    }
   },
   "outputs": [
    {
     "name": "stdout",
     "output_type": "stream",
     "text": [
      "<class 'pandas.core.frame.DataFrame'>\n",
      "RangeIndex: 1304 entries, 0 to 1303\n",
      "Data columns (total 6 columns):\n",
      " #   Column  Non-Null Count  Dtype         \n",
      "---  ------  --------------  -----         \n",
      " 0   Date    1304 non-null   datetime64[ns]\n",
      " 1   Open    1304 non-null   float64       \n",
      " 2   High    1304 non-null   float64       \n",
      " 3   Low     1304 non-null   float64       \n",
      " 4   Close   1304 non-null   float64       \n",
      " 5   Volume  1304 non-null   int64         \n",
      "dtypes: datetime64[ns](1), float64(4), int64(1)\n",
      "memory usage: 61.3 KB\n"
     ]
    }
   ],
   "source": [
    "eur.info()"
   ]
  },
  {
   "cell_type": "code",
   "execution_count": null,
   "id": "0ba1b359",
   "metadata": {},
   "outputs": [],
   "source": []
  }
 ],
 "metadata": {
  "kernelspec": {
   "display_name": "Python 3 (ipykernel)",
   "language": "python",
   "name": "python3"
  },
  "language_info": {
   "codemirror_mode": {
    "name": "ipython",
    "version": 3
   },
   "file_extension": ".py",
   "mimetype": "text/x-python",
   "name": "python",
   "nbconvert_exporter": "python",
   "pygments_lexer": "ipython3",
   "version": "3.12.3"
  }
 },
 "nbformat": 4,
 "nbformat_minor": 5
}
